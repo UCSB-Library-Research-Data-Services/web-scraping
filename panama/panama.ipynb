{
 "cells": [
  {
   "cell_type": "code",
   "execution_count": null,
   "id": "d7f8319a-d3fc-4a0a-a697-e5c0bca8284d",
   "metadata": {},
   "outputs": [],
   "source": [
    "import os\n",
    "import sys\n",
    "import json\n",
    "import pandas as pd\n",
    "from seleniumwire import webdriver\n"
   ]
  },
  {
   "cell_type": "code",
   "execution_count": null,
   "id": "28b44269-370f-436f-a0d9-1326292d3b52",
   "metadata": {},
   "outputs": [],
   "source": [
    "driver = webdriver.Chrome()\n",
    "# now to get the website\n",
    "driver.get(\"https://www.panamacompra.gob.pa/Inicio/#!/busquedaAvanzada/ListarActosParametros?IdTipoBusqueda=0&descripcion=&estado=0&fd=2000-01-01T21:19:34.891Z&fh=2021-10-12T20:19:34.894Z&provincia=0&tcompra=-1&ucompra=%7B%22disabled%22:true%7D\")\n",
    "# we identified the request through dev tools on the browser\n",
    "request = driver.wait_for_request('https://www.panamacompra.gob.pa/Security/AmbientePublico.asmx/ListarActosParametros', timeout=60)\n"
   ]
  },
  {
   "cell_type": "code",
   "execution_count": null,
   "id": "a555fda4-74ae-4284-b1bc-e270ea683072",
   "metadata": {},
   "outputs": [],
   "source": []
  },
  {
   "cell_type": "code",
   "execution_count": null,
   "id": "d296e93c-7307-421a-9c51-021a45c1b2d9",
   "metadata": {},
   "outputs": [],
   "source": [
    "# we need to parse the response to get to what we need\n",
    "responsejson = json.loads(request.response.body)\n",
    "# make a list of what we need from the response\n",
    "listNews = responsejson['listNews']\n",
    "# load that response into a dataframe for easy tabular manipulation, etc\n",
    "mainDf = pd.DataFrame(listNews) \n",
    "numeroAd = mainDf.iloc[-1]['NumeroAdquisicion']"
   ]
  },
  {
   "cell_type": "code",
   "execution_count": null,
   "id": "07110048-f7a0-454b-8b64-00795a59bd18",
   "metadata": {},
   "outputs": [],
   "source": [
    "from selenium.webdriver.common.by import By\n",
    "from selenium.webdriver import ActionChains\n",
    "import time\n",
    "prevNumero = ''\n",
    "\n",
    "while numeroAd != prevNumero:\n",
    "    del driver.requests\n",
    "    time.sleep(10)\n",
    "    button = driver.find_element(By.LINK_TEXT, '»')\n",
    "    button.click()\n",
    "    #driver.find_element(By.LINK_TEXT, '»').send_keys(\"Keys.ENTER\")\n",
    "    request = driver.wait_for_request('https://www.panamacompra.gob.pa/Security/AmbientePublico.asmx/ListarActosParametros', timeout=60)\n",
    "    # we need to parse the response to get to what we need\n",
    "    responsejson = json.loads(request.response.body)\n",
    "    # make a list of what we need from the response\n",
    "    listNews = responsejson['listNews']\n",
    "    # load that response into a dataframe for easy tabular manipulation, etc\n",
    "    df = pd.DataFrame(listNews)\n",
    "    mainDf = pd.concat([mainDf, df], axis=0)\n",
    "    prevNumero = numeroAd\n",
    "    numeroAd = df.iloc[-1]['NumeroAdquisicion']\n",
    "    print('prevNumero:{prevNumero}; numeroAd:{numeroAd}'.format(prevNumero = prevNumero,numeroAd = numeroAd ))\n",
    "mainDf.to_csv (r'panama.csv', index = False, header=True)\n"
   ]
  },
  {
   "cell_type": "code",
   "execution_count": null,
   "id": "db0c2689-6b1d-4800-9637-9fd1f4c7163b",
   "metadata": {},
   "outputs": [],
   "source": [
    "mainDf.to_csv (r'panama.csv', index = False, header=True)\n"
   ]
  },
  {
   "cell_type": "code",
   "execution_count": null,
   "id": "b263d8e1-0996-4141-aba0-01692e99be25",
   "metadata": {},
   "outputs": [],
   "source": []
  },
  {
   "cell_type": "code",
   "execution_count": null,
   "id": "c31355c4-9043-4eb2-86d6-efaafc960949",
   "metadata": {},
   "outputs": [],
   "source": []
  }
 ],
 "metadata": {
  "kernelspec": {
   "display_name": "Python 3",
   "language": "python",
   "name": "python3"
  },
  "language_info": {
   "codemirror_mode": {
    "name": "ipython",
    "version": 3
   },
   "file_extension": ".py",
   "mimetype": "text/x-python",
   "name": "python",
   "nbconvert_exporter": "python",
   "pygments_lexer": "ipython3",
   "version": "3.8.8"
  }
 },
 "nbformat": 4,
 "nbformat_minor": 5
}
