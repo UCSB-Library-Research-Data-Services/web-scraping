{
 "cells": [
  {
   "cell_type": "code",
   "execution_count": 1,
   "id": "d7f8319a-d3fc-4a0a-a697-e5c0bca8284d",
   "metadata": {},
   "outputs": [],
   "source": [
    "import os\n",
    "import sys\n",
    "import json\n",
    "import pandas as pd\n",
    "from seleniumwire import webdriver\n"
   ]
  },
  {
   "cell_type": "code",
   "execution_count": 2,
   "id": "28b44269-370f-436f-a0d9-1326292d3b52",
   "metadata": {},
   "outputs": [],
   "source": [
    "driver = webdriver.Chrome()\n",
    "# now to get the website\n",
    "driver.get(\"https://www.panamacompra.gob.pa/Inicio/#!/busquedaAvanzada/ListarActosParametros?IdTipoBusqueda=0&descripcion=&estado=0&fd=2000-01-01T21:19:34.891Z&fh=2021-10-12T20:19:34.894Z&provincia=0&tcompra=-1&ucompra=%7B%22disabled%22:true%7D\")\n",
    "# we identified the request through dev tools on the browser\n",
    "request = driver.wait_for_request('https://www.panamacompra.gob.pa/Security/AmbientePublico.asmx/ListarActosParametros', timeout=60)\n"
   ]
  },
  {
   "cell_type": "code",
   "execution_count": null,
   "id": "a555fda4-74ae-4284-b1bc-e270ea683072",
   "metadata": {},
   "outputs": [],
   "source": []
  },
  {
   "cell_type": "code",
   "execution_count": 3,
   "id": "d296e93c-7307-421a-9c51-021a45c1b2d9",
   "metadata": {},
   "outputs": [],
   "source": [
    "# we need to parse the response to get to what we need\n",
    "responsejson = json.loads(request.response.body)\n",
    "# make a list of what we need from the response\n",
    "listNews = responsejson['listNews']\n",
    "# load that response into a dataframe for easy tabular manipulation, etc\n",
    "mainDf = pd.DataFrame(listNews) \n",
    "numeroAd = mainDf.iloc[-1]['NumeroAdquisicion']"
   ]
  },
  {
   "cell_type": "code",
   "execution_count": 4,
   "id": "07110048-f7a0-454b-8b64-00795a59bd18",
   "metadata": {},
   "outputs": [
    {
     "name": "stdout",
     "output_type": "stream",
     "text": [
      "prevNumero:2021-1-10-0-08-LP-434706; numeroAd:2021-1-10-0-02-LP-437747\n",
      "prevNumero:2021-1-10-0-02-LP-437747; numeroAd:2021-1-10-0-08-LP-436979\n",
      "prevNumero:2021-1-10-0-08-LP-436979; numeroAd:2021-1-10-0-06-LP-433128\n",
      "prevNumero:2021-1-10-0-06-LP-433128; numeroAd:2021-1-10-0-08-LP-435605\n",
      "prevNumero:2021-1-10-0-08-LP-435605; numeroAd:2021-0-12-11-08-LP-019068\n",
      "prevNumero:2021-0-12-11-08-LP-019068; numeroAd:2021-1-10-0-08-LP-433745\n",
      "prevNumero:2021-1-10-0-08-LP-433745; numeroAd:2021-1-10-0-08-LP-433947\n",
      "prevNumero:2021-1-10-0-08-LP-433947; numeroAd:2021-1-10-0-04-LP-436233\n",
      "prevNumero:2021-1-10-0-04-LP-436233; numeroAd:2021-2-70-0-08-EM-008390\n",
      "prevNumero:2021-2-70-0-08-EM-008390; numeroAd:2021-1-10-0-08-LP-434058\n",
      "prevNumero:2021-1-10-0-08-LP-434058; numeroAd:2021-1-10-0-08-LP-436160\n",
      "prevNumero:2021-1-10-0-08-LP-436160; numeroAd:2021-0-08-0-08-PS-016417\n",
      "prevNumero:2021-0-08-0-08-PS-016417; numeroAd:2021-1-93-0-08-CM-010285\n",
      "prevNumero:2021-1-93-0-08-CM-010285; numeroAd:2021-1-10-0-06-CM-432256\n",
      "prevNumero:2021-1-10-0-06-CM-432256; numeroAd:2021-1-10-0-04-LP-433250\n",
      "prevNumero:2021-1-10-0-04-LP-433250; numeroAd:2021-1-10-0-08-CM-435324\n",
      "prevNumero:2021-1-10-0-08-CM-435324; numeroAd:2021-2-70-0-02-EM-008609\n",
      "prevNumero:2021-2-70-0-02-EM-008609; numeroAd:2021-0-12-0-09-LP-032132\n",
      "prevNumero:2021-0-12-0-09-LP-032132; numeroAd:2021-1-10-0-01-LP-435961\n",
      "prevNumero:2021-1-10-0-01-LP-435961; numeroAd:2021-1-10-0-06-LP-434776\n",
      "prevNumero:2021-1-10-0-06-LP-434776; numeroAd:2021-1-10-0-08-LP-435217\n",
      "prevNumero:2021-1-10-0-08-LP-435217; numeroAd:2021-2-78-0-08-LP-014472\n",
      "prevNumero:2021-2-78-0-08-LP-014472; numeroAd:2021-0-12-0-08-PS-035760\n",
      "prevNumero:2021-0-12-0-08-PS-035760; numeroAd:2021-0-21-0-99-LP-016078\n",
      "prevNumero:2021-0-21-0-99-LP-016078; numeroAd:2021-1-10-0-08-CM-424469\n"
     ]
    },
    {
     "ename": "TimeoutException",
     "evalue": "Message: Timed out after 60s waiting for request matching https://www.panamacompra.gob.pa/Security/AmbientePublico.asmx/ListarActosParametros\n",
     "output_type": "error",
     "traceback": [
      "\u001b[1;31m---------------------------------------------------------------------------\u001b[0m",
      "\u001b[1;31mTimeoutException\u001b[0m                          Traceback (most recent call last)",
      "\u001b[1;32m<ipython-input-4-e933a81fbaa2>\u001b[0m in \u001b[0;36m<module>\u001b[1;34m\u001b[0m\n\u001b[0;32m     10\u001b[0m     \u001b[0mbutton\u001b[0m\u001b[1;33m.\u001b[0m\u001b[0mclick\u001b[0m\u001b[1;33m(\u001b[0m\u001b[1;33m)\u001b[0m\u001b[1;33m\u001b[0m\u001b[1;33m\u001b[0m\u001b[0m\n\u001b[0;32m     11\u001b[0m     \u001b[1;31m#driver.find_element(By.LINK_TEXT, '»').send_keys(\"Keys.ENTER\")\u001b[0m\u001b[1;33m\u001b[0m\u001b[1;33m\u001b[0m\u001b[1;33m\u001b[0m\u001b[0m\n\u001b[1;32m---> 12\u001b[1;33m     \u001b[0mrequest\u001b[0m \u001b[1;33m=\u001b[0m \u001b[0mdriver\u001b[0m\u001b[1;33m.\u001b[0m\u001b[0mwait_for_request\u001b[0m\u001b[1;33m(\u001b[0m\u001b[1;34m'https://www.panamacompra.gob.pa/Security/AmbientePublico.asmx/ListarActosParametros'\u001b[0m\u001b[1;33m,\u001b[0m \u001b[0mtimeout\u001b[0m\u001b[1;33m=\u001b[0m\u001b[1;36m60\u001b[0m\u001b[1;33m)\u001b[0m\u001b[1;33m\u001b[0m\u001b[1;33m\u001b[0m\u001b[0m\n\u001b[0m\u001b[0;32m     13\u001b[0m     \u001b[1;31m# we need to parse the response to get to what we need\u001b[0m\u001b[1;33m\u001b[0m\u001b[1;33m\u001b[0m\u001b[1;33m\u001b[0m\u001b[0m\n\u001b[0;32m     14\u001b[0m     \u001b[0mresponsejson\u001b[0m \u001b[1;33m=\u001b[0m \u001b[0mjson\u001b[0m\u001b[1;33m.\u001b[0m\u001b[0mloads\u001b[0m\u001b[1;33m(\u001b[0m\u001b[0mrequest\u001b[0m\u001b[1;33m.\u001b[0m\u001b[0mresponse\u001b[0m\u001b[1;33m.\u001b[0m\u001b[0mbody\u001b[0m\u001b[1;33m)\u001b[0m\u001b[1;33m\u001b[0m\u001b[1;33m\u001b[0m\u001b[0m\n",
      "\u001b[1;32m~\\Anaconda3\\lib\\site-packages\\seleniumwire\\inspect.py\u001b[0m in \u001b[0;36mwait_for_request\u001b[1;34m(self, pat, timeout)\u001b[0m\n\u001b[0;32m     81\u001b[0m                 \u001b[1;32mreturn\u001b[0m \u001b[0mrequest\u001b[0m\u001b[1;33m\u001b[0m\u001b[1;33m\u001b[0m\u001b[0m\n\u001b[0;32m     82\u001b[0m \u001b[1;33m\u001b[0m\u001b[0m\n\u001b[1;32m---> 83\u001b[1;33m         \u001b[1;32mraise\u001b[0m \u001b[0mTimeoutException\u001b[0m\u001b[1;33m(\u001b[0m\u001b[1;34m'Timed out after {}s waiting for request matching {}'\u001b[0m\u001b[1;33m.\u001b[0m\u001b[0mformat\u001b[0m\u001b[1;33m(\u001b[0m\u001b[0mtimeout\u001b[0m\u001b[1;33m,\u001b[0m \u001b[0mpat\u001b[0m\u001b[1;33m)\u001b[0m\u001b[1;33m)\u001b[0m\u001b[1;33m\u001b[0m\u001b[1;33m\u001b[0m\u001b[0m\n\u001b[0m\u001b[0;32m     84\u001b[0m \u001b[1;33m\u001b[0m\u001b[0m\n\u001b[0;32m     85\u001b[0m     \u001b[1;33m@\u001b[0m\u001b[0mproperty\u001b[0m\u001b[1;33m\u001b[0m\u001b[1;33m\u001b[0m\u001b[0m\n",
      "\u001b[1;31mTimeoutException\u001b[0m: Message: Timed out after 60s waiting for request matching https://www.panamacompra.gob.pa/Security/AmbientePublico.asmx/ListarActosParametros\n"
     ]
    }
   ],
   "source": [
    "from selenium.webdriver.common.by import By\n",
    "from selenium.webdriver import ActionChains\n",
    "import time\n",
    "prevNumero = ''\n",
    "\n",
    "while numeroAd != prevNumero:\n",
    "    del driver.requests\n",
    "    time.sleep(10)\n",
    "    button = driver.find_element(By.LINK_TEXT, '»')\n",
    "    button.click()\n",
    "    #driver.find_element(By.LINK_TEXT, '»').send_keys(\"Keys.ENTER\")\n",
    "    request = driver.wait_for_request('https://www.panamacompra.gob.pa/Security/AmbientePublico.asmx/ListarActosParametros', timeout=60)\n",
    "    # we need to parse the response to get to what we need\n",
    "    responsejson = json.loads(request.response.body)\n",
    "    # make a list of what we need from the response\n",
    "    listNews = responsejson['listNews']\n",
    "    # load that response into a dataframe for easy tabular manipulation, etc\n",
    "    df = pd.DataFrame(listNews)\n",
    "    mainDf = pd.concat([mainDf, df], axis=0)\n",
    "    prevNumero = numeroAd\n",
    "    numeroAd = df.iloc[-1]['NumeroAdquisicion']\n",
    "    print('prevNumero:{prevNumero}; numeroAd:{numeroAd}'.format(prevNumero = prevNumero,numeroAd = numeroAd ))\n",
    "mainDf.to_csv (r'panama.csv', index = False, header=True)\n"
   ]
  },
  {
   "cell_type": "code",
   "execution_count": 5,
   "id": "db0c2689-6b1d-4800-9637-9fd1f4c7163b",
   "metadata": {},
   "outputs": [],
   "source": [
    "mainDf.to_csv (r'panama.csv', index = False, header=True)\n"
   ]
  },
  {
   "cell_type": "code",
   "execution_count": null,
   "id": "b263d8e1-0996-4141-aba0-01692e99be25",
   "metadata": {},
   "outputs": [],
   "source": []
  },
  {
   "cell_type": "code",
   "execution_count": null,
   "id": "c31355c4-9043-4eb2-86d6-efaafc960949",
   "metadata": {},
   "outputs": [],
   "source": []
  }
 ],
 "metadata": {
  "kernelspec": {
   "display_name": "Python 3",
   "language": "python",
   "name": "python3"
  },
  "language_info": {
   "codemirror_mode": {
    "name": "ipython",
    "version": 3
   },
   "file_extension": ".py",
   "mimetype": "text/x-python",
   "name": "python",
   "nbconvert_exporter": "python",
   "pygments_lexer": "ipython3",
   "version": "3.8.8"
  }
 },
 "nbformat": 4,
 "nbformat_minor": 5
}
