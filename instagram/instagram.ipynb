{
 "cells": [
  {
   "cell_type": "code",
   "execution_count": null,
   "id": "92e138ed-c1a5-4a75-8fbb-5876bc22fb10",
   "metadata": {},
   "outputs": [],
   "source": [
    "# the libraries you will need to run the program\n",
    "import pandas as pd\n",
    "import requests # to get image from the web\n",
    "import shutil # to save it locally\n"
   ]
  },
  {
   "cell_type": "code",
   "execution_count": null,
   "id": "568343c9-476f-43d4-b858-185227e19fbc",
   "metadata": {},
   "outputs": [],
   "source": [
    "df = pd.read_csv(\"~/Desktop/body_images.csv\")"
   ]
  },
  {
   "cell_type": "markdown",
   "id": "4cbbe4b5-6483-433e-b157-c8e1c96235c1",
   "metadata": {},
   "source": [
    "Most of what follows is from: https://towardsdatascience.com/how-to-download-an-image-using-python-38a75cfa21c"
   ]
  },
  {
   "cell_type": "code",
   "execution_count": null,
   "id": "72be0be6-5a05-4a52-82e3-a5414fd38047",
   "metadata": {},
   "outputs": [],
   "source": [
    "for index, row in df.iterrows():\n",
    "    image_url = row['URL']\n",
    "    filename = image_url.split(\"/\")[-3]\n",
    "    r = requests.get(image_url, stream = True)\n",
    "    ext = r.headers['content-type'].split('/')[-1] # converts response headers mime type to an extension (may not work with everything)\n",
    "    filename += '.'\n",
    "    filename += ext\n",
    "    # Check if the image was retrieved successfully\n",
    "    if r.status_code == 200:\n",
    "        # Set decode_content value to True, otherwise the downloaded image file's size will be zero.\n",
    "        r.raw.decode_content = True\n",
    "        \n",
    "        # Open a local file with wb ( write binary ) permission.\n",
    "        with open(filename,'wb') as f:\n",
    "            shutil.copyfileobj(r.raw, f)\n",
    "        \n",
    "        print('Image sucessfully Downloaded: ',filename)\n",
    "    else:\n",
    "        print('Image Couldn\\'t be retreived')\n"
   ]
  },
  {
   "cell_type": "code",
   "execution_count": null,
   "id": "e8eeb73d-7701-41be-a897-473368fe2e07",
   "metadata": {},
   "outputs": [],
   "source": []
  }
 ],
 "metadata": {
  "kernelspec": {
   "display_name": "Python 3",
   "language": "python",
   "name": "python3"
  },
  "language_info": {
   "codemirror_mode": {
    "name": "ipython",
    "version": 3
   },
   "file_extension": ".py",
   "mimetype": "text/x-python",
   "name": "python",
   "nbconvert_exporter": "python",
   "pygments_lexer": "ipython3",
   "version": "3.8.8"
  }
 },
 "nbformat": 4,
 "nbformat_minor": 5
}
